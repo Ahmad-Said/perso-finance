{
 "cells": [
  {
   "cell_type": "markdown",
   "metadata": {},
   "source": [
    "# Demonstration of `pdfplumber`'s table-extraction options\n",
    "\n",
    "This notebook uses a [report from the FBI's National Instant Criminal Background Check System](../pdfs/background-checks.pdf)."
   ]
  },
  {
   "cell_type": "markdown",
   "metadata": {},
   "source": [
    "### Import `pdfplumber`"
   ]
  },
  {
   "cell_type": "code",
   "metadata": {
    "execution": {
     "iopub.execute_input": "2022-07-18T14:47:50.653979Z",
     "iopub.status.busy": "2022-07-18T14:47:50.653590Z",
     "iopub.status.idle": "2022-07-18T14:47:50.688352Z",
     "shell.execute_reply": "2022-07-18T14:47:50.688022Z"
    }
   },
   "source": [
    "import pdfplumber\n",
    "print(pdfplumber.__version__)"
   ],
   "outputs": [],
   "execution_count": null
  },
  {
   "cell_type": "markdown",
   "metadata": {},
   "source": [
    "### Load the PDF"
   ]
  },
  {
   "cell_type": "code",
   "metadata": {
    "execution": {
     "iopub.execute_input": "2022-07-18T14:47:50.690282Z",
     "iopub.status.busy": "2022-07-18T14:47:50.690148Z",
     "iopub.status.idle": "2022-07-18T14:47:50.693123Z",
     "shell.execute_reply": "2022-07-18T14:47:50.692800Z"
    }
   },
   "source": "pdf = pdfplumber.open(\"background-checks.pdf\")",
   "outputs": [],
   "execution_count": null
  },
  {
   "cell_type": "markdown",
   "metadata": {},
   "source": [
    "### Get the first page"
   ]
  },
  {
   "cell_type": "code",
   "metadata": {
    "execution": {
     "iopub.execute_input": "2022-07-18T14:47:50.694914Z",
     "iopub.status.busy": "2022-07-18T14:47:50.694698Z",
     "iopub.status.idle": "2022-07-18T14:47:50.697918Z",
     "shell.execute_reply": "2022-07-18T14:47:50.697541Z"
    }
   },
   "source": "p0 = pdf.pages[1]",
   "outputs": [],
   "execution_count": null
  },
  {
   "cell_type": "code",
   "metadata": {
    "execution": {
     "iopub.execute_input": "2022-07-18T14:47:50.699690Z",
     "iopub.status.busy": "2022-07-18T14:47:50.699510Z",
     "iopub.status.idle": "2022-07-18T14:47:50.932605Z",
     "shell.execute_reply": "2022-07-18T14:47:50.932325Z"
    }
   },
   "source": [
    "im = p0.to_image()\n",
    "im"
   ],
   "outputs": [],
   "execution_count": null
  },
  {
   "cell_type": "markdown",
   "metadata": {},
   "source": [
    "### What data would we get if we used the default settings?\n",
    "\n",
    "We can check by using `PageImage.debug_tablefinder()`:"
   ]
  },
  {
   "cell_type": "code",
   "metadata": {
    "execution": {
     "iopub.execute_input": "2022-07-18T14:47:50.934494Z",
     "iopub.status.busy": "2022-07-18T14:47:50.934380Z",
     "iopub.status.idle": "2022-07-18T14:47:51.175271Z",
     "shell.execute_reply": "2022-07-18T14:47:51.174997Z"
    }
   },
   "source": [
    "im.reset().debug_tablefinder()"
   ],
   "outputs": [],
   "execution_count": null
  },
  {
   "cell_type": "markdown",
   "metadata": {},
   "source": [
    "The default settings correctly identify the table's vertical demarcations, but don't capture the horizontal demarcations between each group of five states/territories. So:"
   ]
  },
  {
   "cell_type": "markdown",
   "metadata": {},
   "source": [
    "### Using custom `.extract_table`'s settings\n",
    "\n",
    "- Because the columns are separated by lines, we use `vertical_strategy=\"lines\"`\n",
    "- Because the rows are, primarily, separated by gutters between the text, we use `horizontal_strategy=\"text\"`\n",
    "- To snap together a handful of the gutters at the top which aren't fully flush with one another, we use `snap_y_tolerance`, which snaps horizontal lines within a certain distance to the same vertical alignment.\n",
    "- And because the left and right-hand extremities of the text aren't quite flush with the vertical lines, we use `\"intersection_tolerance\": 15`"
   ]
  },
  {
   "cell_type": "code",
   "metadata": {
    "execution": {
     "iopub.execute_input": "2022-07-18T14:47:51.177057Z",
     "iopub.status.busy": "2022-07-18T14:47:51.176941Z",
     "iopub.status.idle": "2022-07-18T14:47:51.178720Z",
     "shell.execute_reply": "2022-07-18T14:47:51.178476Z"
    }
   },
   "source": [
    "table_settings = {\n",
    "    \"text_x_tolerance\": 2,\n",
    "    \"vertical_strategy\": \"lines\",\n",
    "    \"horizontal_strategy\": \"text\",\n",
    "    \"snap_y_tolerance\": 0,\n",
    "    \"intersection_x_tolerance\": 15,\n",
    "}\n",
    "display(im.reset().debug_tablefinder(table_settings))\n",
    "table = p0.extract_table(table_settings)\n",
    "for row in table:\n",
    "    print(row)\n"
   ],
   "outputs": [],
   "execution_count": null
  },
  {
   "cell_type": "code",
   "metadata": {
    "execution": {
     "iopub.execute_input": "2022-07-18T14:47:51.180163Z",
     "iopub.status.busy": "2022-07-18T14:47:51.180061Z",
     "iopub.status.idle": "2022-07-18T14:47:51.339711Z",
     "shell.execute_reply": "2022-07-18T14:47:51.339432Z"
    }
   },
   "source": "",
   "outputs": [],
   "execution_count": null
  },
  {
   "cell_type": "code",
   "metadata": {
    "execution": {
     "iopub.execute_input": "2022-07-18T14:47:51.341430Z",
     "iopub.status.busy": "2022-07-18T14:47:51.341319Z",
     "iopub.status.idle": "2022-07-18T14:47:51.527088Z",
     "shell.execute_reply": "2022-07-18T14:47:51.526735Z"
    }
   },
   "source": "",
   "outputs": [],
   "execution_count": null
  },
  {
   "cell_type": "code",
   "metadata": {
    "execution": {
     "iopub.execute_input": "2022-07-18T14:47:51.528833Z",
     "iopub.status.busy": "2022-07-18T14:47:51.528741Z",
     "iopub.status.idle": "2022-07-18T14:47:51.530609Z",
     "shell.execute_reply": "2022-07-18T14:47:51.530374Z"
    }
   },
   "source": "",
   "outputs": [],
   "execution_count": null
  },
  {
   "cell_type": "markdown",
   "metadata": {},
   "source": [
    "### Cleaning up the data\n",
    "\n",
    "`.extract_table` worked with our custom settings, but the table it detected contains extraneous headers and footers. Since we know that the `Alabama` row is the first, and that there are 56 rows we care about (50 states + DC + 4 territories + the \"Totals\" row), we can slice away the rest:"
   ]
  },
  {
   "cell_type": "code",
   "metadata": {
    "execution": {
     "iopub.execute_input": "2022-07-18T14:47:51.532049Z",
     "iopub.status.busy": "2022-07-18T14:47:51.531967Z",
     "iopub.status.idle": "2022-07-18T14:47:51.533676Z",
     "shell.execute_reply": "2022-07-18T14:47:51.533426Z"
    }
   },
   "source": [
    "core_table = table[4:4+56]"
   ],
   "outputs": [],
   "execution_count": null
  },
  {
   "cell_type": "markdown",
   "metadata": {},
   "source": [
    "The first row:"
   ]
  },
  {
   "cell_type": "code",
   "metadata": {
    "execution": {
     "iopub.execute_input": "2022-07-18T14:47:51.535244Z",
     "iopub.status.busy": "2022-07-18T14:47:51.535160Z",
     "iopub.status.idle": "2022-07-18T14:47:51.537352Z",
     "shell.execute_reply": "2022-07-18T14:47:51.537122Z"
    }
   },
   "source": [
    "\" • \".join(core_table[0])"
   ],
   "outputs": [],
   "execution_count": null
  },
  {
   "cell_type": "markdown",
   "metadata": {},
   "source": [
    "The last:"
   ]
  },
  {
   "cell_type": "code",
   "metadata": {
    "execution": {
     "iopub.execute_input": "2022-07-18T14:47:51.538797Z",
     "iopub.status.busy": "2022-07-18T14:47:51.538719Z",
     "iopub.status.idle": "2022-07-18T14:47:51.540722Z",
     "shell.execute_reply": "2022-07-18T14:47:51.540498Z"
    }
   },
   "source": [
    "\" • \".join(core_table[-1])"
   ],
   "outputs": [],
   "execution_count": null
  },
  {
   "cell_type": "markdown",
   "metadata": {},
   "source": [
    "Now, let's turn those rows into dictionaries, and also convert strings-representing-numbers to the numbers themselves, e.g., `\"18,870\" -> 18870`:"
   ]
  },
  {
   "cell_type": "code",
   "metadata": {
    "execution": {
     "iopub.execute_input": "2022-07-18T14:47:51.542220Z",
     "iopub.status.busy": "2022-07-18T14:47:51.542120Z",
     "iopub.status.idle": "2022-07-18T14:47:51.544117Z",
     "shell.execute_reply": "2022-07-18T14:47:51.543851Z"
    }
   },
   "source": [
    "COLUMNS = [\n",
    "    \"state\",\n",
    "    \"permit\",\n",
    "    \"handgun\",\n",
    "    \"long_gun\",\n",
    "    \"other\",\n",
    "    \"multiple\",\n",
    "    \"admin\",\n",
    "    \"prepawn_handgun\",\n",
    "    \"prepawn_long_gun\",\n",
    "    \"prepawn_other\",\n",
    "    \"redemption_handgun\",\n",
    "    \"redemption_long_gun\",\n",
    "    \"redemption_other\",\n",
    "    \"returned_handgun\",\n",
    "    \"returned_long_gun\",\n",
    "    \"returned_other\",\n",
    "    \"rentals_handgun\",\n",
    "    \"rentals_long_gun\",\n",
    "    \"private_sale_handgun\",\n",
    "    \"private_sale_long_gun\",\n",
    "    \"private_sale_other\",\n",
    "    \"return_to_seller_handgun\",\n",
    "    \"return_to_seller_long_gun\",\n",
    "    \"return_to_seller_other\",\n",
    "    \"totals\"\n",
    "]"
   ],
   "outputs": [],
   "execution_count": null
  },
  {
   "cell_type": "code",
   "metadata": {
    "execution": {
     "iopub.execute_input": "2022-07-18T14:47:51.545556Z",
     "iopub.status.busy": "2022-07-18T14:47:51.545454Z",
     "iopub.status.idle": "2022-07-18T14:47:51.547305Z",
     "shell.execute_reply": "2022-07-18T14:47:51.547053Z"
    }
   },
   "source": [
    "def parse_value(i, x):\n",
    "    if i == 0: return x\n",
    "    if x == \"\": return None\n",
    "    return int(x.replace(\",\", \"\"))"
   ],
   "outputs": [],
   "execution_count": null
  },
  {
   "cell_type": "code",
   "metadata": {
    "execution": {
     "iopub.execute_input": "2022-07-18T14:47:51.548636Z",
     "iopub.status.busy": "2022-07-18T14:47:51.548542Z",
     "iopub.status.idle": "2022-07-18T14:47:51.550310Z",
     "shell.execute_reply": "2022-07-18T14:47:51.550064Z"
    }
   },
   "source": [
    "from collections import OrderedDict\n",
    "def parse_row(row):\n",
    "    return {COLUMNS[i]:parse_value(i, cell)\n",
    "        for i, cell in enumerate(row)}"
   ],
   "outputs": [],
   "execution_count": null
  },
  {
   "cell_type": "code",
   "metadata": {
    "execution": {
     "iopub.execute_input": "2022-07-18T14:47:51.551772Z",
     "iopub.status.busy": "2022-07-18T14:47:51.551667Z",
     "iopub.status.idle": "2022-07-18T14:47:51.553680Z",
     "shell.execute_reply": "2022-07-18T14:47:51.553445Z"
    }
   },
   "source": [
    "data = [ parse_row(row) for row in core_table ]"
   ],
   "outputs": [],
   "execution_count": null
  },
  {
   "cell_type": "markdown",
   "metadata": {},
   "source": [
    "Now here's the first row, parsed:"
   ]
  },
  {
   "cell_type": "code",
   "metadata": {
    "execution": {
     "iopub.execute_input": "2022-07-18T14:47:51.555189Z",
     "iopub.status.busy": "2022-07-18T14:47:51.555095Z",
     "iopub.status.idle": "2022-07-18T14:47:51.557309Z",
     "shell.execute_reply": "2022-07-18T14:47:51.557061Z"
    }
   },
   "source": [
    "data[0]"
   ],
   "outputs": [],
   "execution_count": null
  },
  {
   "cell_type": "markdown",
   "metadata": {},
   "source": [
    "### Sort the data\n",
    "\n",
    "For demonstration purposes, let's list the rows with the highest number of handgun-only background checks:"
   ]
  },
  {
   "cell_type": "code",
   "metadata": {
    "execution": {
     "iopub.execute_input": "2022-07-18T14:47:51.558770Z",
     "iopub.status.busy": "2022-07-18T14:47:51.558674Z",
     "iopub.status.idle": "2022-07-18T14:47:51.560629Z",
     "shell.execute_reply": "2022-07-18T14:47:51.560371Z"
    }
   },
   "source": [
    "for row in list(reversed(sorted(data, key=lambda x: x[\"handgun\"])))[:6]:\n",
    "    print(\"{state}: {handgun:,d} handgun-only checks\".format(**row))"
   ],
   "outputs": [],
   "execution_count": null
  },
  {
   "cell_type": "markdown",
   "metadata": {},
   "source": [
    "### Use `extract_text` to extract the report month\n",
    "\n",
    "It looks like the month of the report is listed in an area 35px to 65px from the top of the page. But there's also some other text directly above and below it. So when we crop for that area, we'll use `.within_bbox` instead of `.crop` to select only characters (and other objects) that are fully within the bounding box."
   ]
  },
  {
   "cell_type": "code",
   "metadata": {
    "execution": {
     "iopub.execute_input": "2022-07-18T14:47:51.562125Z",
     "iopub.status.busy": "2022-07-18T14:47:51.562027Z",
     "iopub.status.idle": "2022-07-18T14:47:51.728407Z",
     "shell.execute_reply": "2022-07-18T14:47:51.728150Z"
    }
   },
   "source": [
    "month_crop = p0.within_bbox((0, 35, p0.width, 65))\n",
    "month_crop.to_image()"
   ],
   "outputs": [],
   "execution_count": null
  },
  {
   "cell_type": "code",
   "metadata": {
    "execution": {
     "iopub.execute_input": "2022-07-18T14:47:51.729999Z",
     "iopub.status.busy": "2022-07-18T14:47:51.729896Z",
     "iopub.status.idle": "2022-07-18T14:47:51.735619Z",
     "shell.execute_reply": "2022-07-18T14:47:51.735389Z"
    }
   },
   "source": [
    "month_chars = month_crop.extract_text()\n",
    "month_chars"
   ],
   "outputs": [],
   "execution_count": null
  },
  {
   "cell_type": "markdown",
   "metadata": {},
   "source": [
    "---\n",
    "\n",
    "---\n",
    "\n",
    "---"
   ]
  }
 ],
 "metadata": {
  "kernelspec": {
   "display_name": "Python 3",
   "language": "python",
   "name": "python3"
  },
  "language_info": {
   "codemirror_mode": {
    "name": "ipython",
    "version": 3
   },
   "file_extension": ".py",
   "mimetype": "text/x-python",
   "name": "python",
   "nbconvert_exporter": "python",
   "pygments_lexer": "ipython3",
   "version": "3.12.4"
  }
 },
 "nbformat": 4,
 "nbformat_minor": 1
}
